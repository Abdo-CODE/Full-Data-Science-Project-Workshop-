{
 "cells": [
  {
   "cell_type": "markdown",
   "metadata": {},
   "source": [
    "# DS Workshop Day 1: Tips and Tricks \n",
    "\n",
    "\n",
    "## Welcome to this data science workshop by [GeeksHub](https://www.facebook.com/GeeksHUB.eg) !!! \n",
    "(check out our page for more details)  &#128064;\n"
   ]
  },
  {
   "cell_type": "markdown",
   "metadata": {},
   "source": [
    "## 0. Quick Notes on Efficient use of Pandas \n",
    "\n",
    "\n",
    "*  selecting columns by name is faster than using `.iloc` but `.iloc` is still faster than `.loc`\n",
    "\n",
    "*  random sampling using the pandas function is faster than using numpy to generate random indices\n",
    "\n",
    "*  pandas `.replace()` performs about a 1000 times faster than using `.loc[CONDITION]=new_value`   and the more complex is the condition the slower is the intuitive way than the `.replace()` function\n",
    "\n",
    "*  You can use one .replace() function for two replacing operations ,\n",
    "    \n",
    "    `data.column.replace([”old1”,  “old2”], [”new1”, “new2”], inplace=True)` \n",
    "    \n",
    "    In this case with multiple values replaced in different ways or you want to perform the same replacement across multiple columns you can also use a dictionary instead which is even more efficient \n",
    "    \n",
    "    `data.replace({”old1” : “new1”, “old2” : “new2”} , inplace=True)`\n",
    "    \n",
    "*  `.iterrows()` is not necessarily faster than range() but  produces a cleaner code\n"
   ]
  },
  {
   "cell_type": "markdown",
   "metadata": {},
   "source": [
    "## 1. The differences between loc and iloc in Pandas "
   ]
  },
  {
   "cell_type": "markdown",
   "metadata": {},
   "source": [
    "## Using loc:\n",
    "\n",
    "* loc is label-based indexing, which means you access data using row and column labels."
   ]
  },
  {
   "cell_type": "markdown",
   "metadata": {},
   "source": [
    "## Using iloc:\n",
    "\n",
    "* iloc is integer-based indexing, which means you access data using integer positions.\n",
    "* You specify rows and columns using their integer positions, starting from 0."
   ]
  },
  {
   "cell_type": "code",
   "execution_count": 1,
   "metadata": {},
   "outputs": [],
   "source": [
    "import pandas as pd\n",
    "import seaborn as sns"
   ]
  },
  {
   "cell_type": "code",
   "execution_count": 2,
   "metadata": {},
   "outputs": [],
   "source": [
    "# Load the Iris dataset\n",
    "iris = sns.load_dataset('iris')\n",
    "\n",
    "# Setting the 'species' column as the index\n",
    "iris.set_index('species', inplace=True)\n"
   ]
  },
  {
   "cell_type": "code",
   "execution_count": 3,
   "metadata": {},
   "outputs": [
    {
     "name": "stdout",
     "output_type": "stream",
     "text": [
      "Using loc:\n",
      "            sepal_length  petal_length\n",
      "species                               \n",
      "setosa               5.1           1.4\n",
      "setosa               4.9           1.4\n",
      "setosa               4.7           1.3\n",
      "setosa               4.6           1.5\n",
      "setosa               5.0           1.4\n",
      "...                  ...           ...\n",
      "versicolor           5.7           4.2\n",
      "versicolor           5.7           4.2\n",
      "versicolor           6.2           4.3\n",
      "versicolor           5.1           3.0\n",
      "versicolor           5.7           4.1\n",
      "\n",
      "[100 rows x 2 columns]\n",
      "\n",
      "Using iloc:\n",
      "         sepal_length  petal_length\n",
      "species                            \n",
      "setosa            5.1           1.4\n",
      "setosa            4.9           1.4\n"
     ]
    }
   ],
   "source": [
    "# Example 1: Selecting specific rows and columns using loc\n",
    "subset_loc = iris.loc[['setosa', 'versicolor'], ['sepal_length', 'petal_length']]\n",
    "print(\"Using loc:\")\n",
    "print(subset_loc)\n",
    "\n",
    "# Example 2: Selecting specific rows and columns using iloc\n",
    "subset_iloc = iris.iloc[0:2, [0, 2]]\n",
    "print(\"\\nUsing iloc:\")\n",
    "print(subset_iloc)\n"
   ]
  },
  {
   "cell_type": "code",
   "execution_count": 4,
   "metadata": {},
   "outputs": [
    {
     "name": "stdout",
     "output_type": "stream",
     "text": [
      "\n",
      "Rows based on condition using loc:\n",
      "           sepal_length  sepal_width  petal_length  petal_width\n",
      "species                                                        \n",
      "setosa              5.0          3.6           1.4          0.2\n",
      "setosa              5.4          3.9           1.7          0.4\n",
      "setosa              5.4          3.7           1.5          0.2\n",
      "setosa              5.8          4.0           1.2          0.2\n",
      "setosa              5.7          4.4           1.5          0.4\n",
      "setosa              5.4          3.9           1.3          0.4\n",
      "setosa              5.7          3.8           1.7          0.3\n",
      "setosa              5.1          3.8           1.5          0.3\n",
      "setosa              5.1          3.7           1.5          0.4\n",
      "setosa              4.6          3.6           1.0          0.2\n",
      "setosa              5.2          4.1           1.5          0.1\n",
      "setosa              5.5          4.2           1.4          0.2\n",
      "setosa              4.9          3.6           1.4          0.1\n",
      "setosa              5.1          3.8           1.9          0.4\n",
      "setosa              5.1          3.8           1.6          0.2\n",
      "setosa              5.3          3.7           1.5          0.2\n",
      "virginica           7.2          3.6           6.1          2.5\n",
      "virginica           7.7          3.8           6.7          2.2\n",
      "virginica           7.9          3.8           6.4          2.0\n",
      "\n",
      "Rows based on condition using iloc:\n",
      "           sepal_length  sepal_width  petal_length  petal_width\n",
      "species                                                        \n",
      "setosa              5.0          3.6           1.4          0.2\n",
      "setosa              5.4          3.9           1.7          0.4\n",
      "setosa              5.4          3.7           1.5          0.2\n",
      "setosa              5.8          4.0           1.2          0.2\n",
      "setosa              5.7          4.4           1.5          0.4\n",
      "setosa              5.4          3.9           1.3          0.4\n",
      "setosa              5.7          3.8           1.7          0.3\n",
      "setosa              5.1          3.8           1.5          0.3\n",
      "setosa              5.1          3.7           1.5          0.4\n",
      "setosa              4.6          3.6           1.0          0.2\n",
      "setosa              5.2          4.1           1.5          0.1\n",
      "setosa              5.5          4.2           1.4          0.2\n",
      "setosa              4.9          3.6           1.4          0.1\n",
      "setosa              5.1          3.8           1.9          0.4\n",
      "setosa              5.1          3.8           1.6          0.2\n",
      "setosa              5.3          3.7           1.5          0.2\n",
      "virginica           7.2          3.6           6.1          2.5\n",
      "virginica           7.7          3.8           6.7          2.2\n",
      "virginica           7.9          3.8           6.4          2.0\n"
     ]
    }
   ],
   "source": [
    "# Example 3: Selecting rows based on conditions using loc\n",
    "conditioned_data_loc = iris.loc[iris['sepal_width'] > 3.5]\n",
    "print(\"\\nRows based on condition using loc:\")\n",
    "print(conditioned_data_loc)\n",
    "\n",
    "# Example 4: Selecting rows based on conditions using iloc (requires boolean indexing)\n",
    "conditioned_data_iloc = iris.iloc[(iris['sepal_width'] > 3.5).values]\n",
    "print(\"\\nRows based on condition using iloc:\")\n",
    "print(conditioned_data_iloc)"
   ]
  },
  {
   "cell_type": "markdown",
   "metadata": {},
   "source": [
    "## 2. The difference between List comprehensions and Loops\n",
    "\n",
    "### There are some key differences:\n",
    "\n",
    "* Readability and Conciseness: List comprehensions are more concise and readable for simple filtering and transformation operations\n",
    "\n",
    "* Performance: List comprehensions can be slightly more efficient for simple operations because they are optimized in Python. For large datasets.\n",
    "\n",
    "* Flexibility: Loops offer more flexibility when dealing with complex data transformations \n",
    "\n",
    "* Maintainability: List comprehensions are often preferred for their simplicity, making the code easier to maintain and debug."
   ]
  },
  {
   "cell_type": "markdown",
   "metadata": {},
   "source": [
    "## Using Loops "
   ]
  },
  {
   "cell_type": "code",
   "execution_count": 5,
   "metadata": {},
   "outputs": [
    {
     "data": {
      "text/plain": [
       "870"
      ]
     },
     "execution_count": 5,
     "metadata": {},
     "output_type": "execute_result"
    }
   ],
   "source": [
    "# Sample sales data\n",
    "sales_data = [120, 80, 150, 90, 200, 110, 130, 95, 160]\n",
    "\n",
    "# Define a threshold\n",
    "threshold = 100\n",
    "\n",
    "# Filter and calculate total revenue using a for loop\n",
    "filtered_sales = []\n",
    "for sale in sales_data:\n",
    "    if sale >= threshold:\n",
    "        filtered_sales.append(sale)\n",
    "\n",
    "total_revenue = sum(filtered_sales)\n",
    "total_revenue"
   ]
  },
  {
   "cell_type": "markdown",
   "metadata": {},
   "source": [
    "## Using List Comprehension "
   ]
  },
  {
   "cell_type": "code",
   "execution_count": 6,
   "metadata": {},
   "outputs": [
    {
     "data": {
      "text/plain": [
       "870"
      ]
     },
     "execution_count": 6,
     "metadata": {},
     "output_type": "execute_result"
    }
   ],
   "source": [
    "# Sample sales data\n",
    "sales_data = [120, 80, 150, 90, 200, 110, 130, 95, 160]\n",
    "\n",
    "# Define a threshold\n",
    "threshold = 100\n",
    "\n",
    "# Filter and calculate total revenue using list comprehension\n",
    "filtered_sales = [sale for sale in sales_data if sale >= threshold]\n",
    "total_revenue = sum(filtered_sales)\n",
    "total_revenue"
   ]
  },
  {
   "cell_type": "markdown",
   "metadata": {},
   "source": [
    "##  3. Filtering and Grouping "
   ]
  },
  {
   "cell_type": "code",
   "execution_count": 30,
   "metadata": {},
   "outputs": [
    {
     "name": "stdout",
     "output_type": "stream",
     "text": [
      "            sepal_length  sepal_width  petal_length  petal_width\n",
      "species                                                         \n",
      "setosa               5.7          3.8           1.7          0.3\n",
      "versicolor           7.0          3.2           4.7          1.4\n",
      "versicolor           6.4          3.2           4.5          1.5\n",
      "versicolor           6.9          3.1           4.9          1.5\n",
      "versicolor           6.5          2.8           4.6          1.5\n",
      "...                  ...          ...           ...          ...\n",
      "virginica            6.7          3.0           5.2          2.3\n",
      "virginica            6.3          2.5           5.0          1.9\n",
      "virginica            6.5          3.0           5.2          2.0\n",
      "virginica            6.2          3.4           5.4          2.3\n",
      "virginica            5.9          3.0           5.1          1.8\n",
      "\n",
      "[89 rows x 4 columns]\n",
      "Species with sepal_length greater than 5.5: Index(['setosa', 'versicolor', 'virginica'], dtype='object', name='species')\n"
     ]
    }
   ],
   "source": [
    "# Filter the data based on the condition\n",
    "filtered_data = iris[(iris['sepal_length'] > 5.5) & (iris['petal_length'] > 1.5)]\n",
    "\n",
    "print(filtered_data)\n",
    "\n",
    "# Print the unique species that meet the filter condition\n",
    "print('Species with sepal_length greater than 5.5:', filtered_data.index.unique())\n"
   ]
  },
  {
   "cell_type": "code",
   "execution_count": 20,
   "metadata": {},
   "outputs": [
    {
     "name": "stdout",
     "output_type": "stream",
     "text": [
      "Subset of mean values for 'sepal_length' and 'petal_length':\n",
      "            sepal_length  petal_length\n",
      "species                               \n",
      "setosa             5.006         1.462\n",
      "versicolor         5.936         4.260\n",
      "virginica          6.588         5.552\n"
     ]
    }
   ],
   "source": [
    "# Group the data by species and calculate the mean for each species\n",
    "grouped_iris = iris.groupby('species').mean()\n",
    "\n",
    "# Select specific columns from the grouped data\n",
    "selected_columns = ['sepal_length', 'petal_length']\n",
    "subset = grouped_iris[selected_columns]\n",
    "\n",
    "# Print the subset\n",
    "print(\"Subset of mean values for 'sepal_length' and 'petal_length':\")\n",
    "print(subset)\n"
   ]
  },
  {
   "cell_type": "code",
   "execution_count": null,
   "metadata": {},
   "outputs": [],
   "source": []
  }
 ],
 "metadata": {
  "kernelspec": {
   "display_name": "Python 3 (ipykernel)",
   "language": "python",
   "name": "python3"
  },
  "language_info": {
   "codemirror_mode": {
    "name": "ipython",
    "version": 3
   },
   "file_extension": ".py",
   "mimetype": "text/x-python",
   "name": "python",
   "nbconvert_exporter": "python",
   "pygments_lexer": "ipython3",
   "version": "3.9.12"
  }
 },
 "nbformat": 4,
 "nbformat_minor": 4
}
