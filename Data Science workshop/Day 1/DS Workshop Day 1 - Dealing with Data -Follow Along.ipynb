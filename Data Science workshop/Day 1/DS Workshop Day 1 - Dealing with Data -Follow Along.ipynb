{
 "cells": [
  {
   "cell_type": "markdown",
   "id": "fab00a35",
   "metadata": {},
   "source": [
    "# DS Workshop Day 1 : Dealing with Data \n",
    "\n",
    "\n",
    "## Welcome to this data science workshop by [GeeksHub](https://www.facebook.com/GeeksHUB.eg) !!! \n",
    "(check out our page for more details)  &#128064;\n",
    "\n",
    "\n",
    "\n",
    "### Our problem : predicting the rating of apps from the [Google Play Store Apps Dataset](https://www.kaggle.com/datasets/lava18/google-play-store-apps/code?datasetId=49864&language=Python&outputs=Visualization&tagIds=13201%2C16614)\n",
    "\n",
    "### Day 1️⃣: Tips and Tricks for Data Preparation and Exploratory Data Analysis (1.5 – 2 hours)\n",
    "\n",
    "* Set the stage for an exciting data science journey.\n",
    "\n",
    "* Advanced Data Cleaning with Pandas.\n",
    "\n",
    "* Techniques for handling missing data.\n",
    "\n",
    "* Removing outliers and anomalies.\n",
    "\n",
    "* Exploratory Data Analysis (EDA) with Matplotlib.\n",
    "\n",
    "* Advanced plotting and visualization.\n",
    "\n",
    "* Extracting insights from data.\n",
    "\n",
    "### Day 2️⃣: Machine Learning Review (2 hours)\n",
    "\n",
    "* Model training and selection.\n",
    "\n",
    "* Understanding model evaluation and performance metrics.\n",
    "\n",
    "* Selecting the best algorithm for a task.\n",
    "\n",
    "* Extra: Hyperparameter Tuning.\n",
    "\n",
    "* Extra: Optimizing model performance.\n",
    "\n",
    "* Practical: Apply these Conceptston your Selected Dataset (1.5 hours)\n",
    "\n",
    "\n",
    "### Day 3️⃣: Finalize our Project. Open discussion about the most common Technical Issues.\n",
    "\n",
    "Our instructors will guide you through each topic, and you'll have the opportunity to apply your learning to real-world datasets, gaining valuable practical experience.\n",
    "\n",
    "\n",
    "\n",
    "\n",
    "*This workshop is reviewed and supervised by Eng. Ahmed Abdelmalek – Senior NLP Engineer @WideBot - [Linkedin](https://www.linkedin.com/in/ahmed-abdelmalek/)*\n",
    "\n",
    "*And taught by:*\n",
    "\n",
    "*Mustafa Osama, NLP engineer @Widebot - [Linkedin](https://www.linkedin.com/in/mustafa-osama-164254232/)*\n",
    "\n",
    "*Abdelrahman Mohamed, Clinical data analyst and Co-founder of GeeksHub- [Linkedin](https://www.linkedin.com/in/abdelrahman-mohamed-%F0%9F%87%B5%F0%9F%87%B8-210ab81b7/)*\n"
   ]
  },
  {
   "cell_type": "markdown",
   "id": "2b82aeda",
   "metadata": {},
   "source": [
    "# Day 1 : Tips and Tricks for Data Preparation and Exploratory Data Analysis \n",
    "\n",
    "![meme1](meme.jpeg)\n",
    "\n",
    "\n",
    "\n",
    "**Remember to check the description of the dataset from the link provided to better understand the data we will be working on but accounting for the lazy ones here's a quick description of the dataset**  &#128064; \n",
    "\n",
    "\n",
    "\n",
    "*The dataset is produced by scraping of the google app store containing the following information about each app:*\n",
    "    \n",
    "   * App (name)\n",
    "   * Category \n",
    "   * Rating\n",
    "   * Reviews\n",
    "   * Size\n",
    "   * Installs (number of installation)\n",
    "   * Type (free or paid)\n",
    "   * Price\n",
    "   * Content Rating (appropriate for which age group)\n",
    "   * Genres (more than one genre can co-exist in one game)\n",
    "   \n",
    "   \n",
    "   \n",
    "\n",
    "### What will we do day 1 in a nutshell:\n",
    "1. Cleaning the data (one problem at a time)\n",
    "2. Exploring relationships in the data (exploratory data analysis)\n",
    "3. Creating more meaningful visualisations (explanatory data analysis)\n",
    "\n",
    "**The notebook will alternate from common-knowledge techniques and advanced methods as well as practice to be done by the students themselves**"
   ]
  },
  {
   "cell_type": "code",
   "execution_count": 9,
   "id": "e4e408e2",
   "metadata": {},
   "outputs": [],
   "source": [
    "## imports  \n",
    "import pandas as pd\n",
    "import numpy as np\n",
    "import matplotlib.pyplot as plt\n",
    "import seaborn as sb\n",
    "import plotly.express as px\n",
    "import plotly.graph_objects as go\n",
    "from plotly.offline import init_notebook_mode, iplot\n",
    "from pylab import rcParams \n",
    "import statsmodels.api as sm\n",
    "\n",
    "plt.style.use('default')\n"
   ]
  },
  {
   "cell_type": "markdown",
   "id": "8ab98d08",
   "metadata": {},
   "source": [
    "## 1. Cleaning the data : One Problem at a Time\n",
    "### Essential questions to ask:\n",
    "* are there duplicates?\n",
    "* are there data entry anamolies?\n",
    "* are the features saved in the appropriate datatype?\n",
    "* are there missing values?\n",
    "* is there uniformity in the formating of indvidual features? \n",
    "* are there meanningless features and what more meaningful features can we extract? \n",
    "* can we reduce the cardinality of highly cardinal variables? (ML-based question) (also what features should we include for our ML?)"
   ]
  },
  {
   "cell_type": "markdown",
   "id": "ede0d3ce",
   "metadata": {},
   "source": [
    "### 1.0 General exploration of the data"
   ]
  },
  {
   "cell_type": "code",
   "execution_count": null,
   "id": "b57855bb",
   "metadata": {},
   "outputs": [],
   "source": [
    "## read the data \n",
    "data=pd.read_csv(\"googleplaystore.csv\")\n",
    "data.head()"
   ]
  },
  {
   "cell_type": "code",
   "execution_count": null,
   "id": "361c45eb",
   "metadata": {},
   "outputs": [],
   "source": [
    "print(\"There are {} observations and {} features in this dataset. \\n\".format(data.shape[0],data.shape[1]))\n",
    "                                                                        "
   ]
  },
  {
   "cell_type": "code",
   "execution_count": null,
   "id": "3360586e",
   "metadata": {},
   "outputs": [],
   "source": [
    "data.info()"
   ]
  },
  {
   "cell_type": "markdown",
   "id": "de916e66",
   "metadata": {},
   "source": [
    "*observations:* \n",
    "* there are missng values in Ratings column \n",
    "* Reviews and Price columns shouldn't be object but numerical instead \n",
    "* Last updated could be datetime type instead of object "
   ]
  },
  {
   "cell_type": "code",
   "execution_count": null,
   "id": "1bc30ee3",
   "metadata": {},
   "outputs": [],
   "source": [
    "# A statistical summary for quantitative data\n",
    "data.describe()"
   ]
  },
  {
   "cell_type": "markdown",
   "id": "a4b6de30",
   "metadata": {},
   "source": [
    "*observation* : there is an obvious outlier (19)"
   ]
  },
  {
   "cell_type": "code",
   "execution_count": null,
   "id": "9d2841f2",
   "metadata": {},
   "outputs": [],
   "source": [
    "# The number of unique Applications\n",
    "data['App'].nunique()"
   ]
  },
  {
   "cell_type": "code",
   "execution_count": null,
   "id": "1946a07b",
   "metadata": {},
   "outputs": [],
   "source": [
    "data.duplicated().sum()"
   ]
  },
  {
   "cell_type": "markdown",
   "id": "e5814b8e",
   "metadata": {},
   "source": [
    "*observation:* there are duplicates as some apps appear to be scraped twice "
   ]
  },
  {
   "cell_type": "code",
   "execution_count": null,
   "id": "c4ef4de7",
   "metadata": {},
   "outputs": [],
   "source": [
    "data.dtypes"
   ]
  },
  {
   "cell_type": "code",
   "execution_count": null,
   "id": "65be3f81",
   "metadata": {},
   "outputs": [],
   "source": [
    "# For loop to find the Statistics of each Column and its Type.\n",
    "\n",
    "for i in list(data.columns):\n",
    "    \n",
    "    print(\"\\n ************ \"+i+\" ************\\n\")\n",
    "    print(\"\\n\",data[i].value_counts())\n",
    "    print(\"\\n\",data[i].describe(),\"\\n\")"
   ]
  },
  {
   "cell_type": "markdown",
   "id": "40f1bae2",
   "metadata": {},
   "source": [
    "*observations:*\n",
    "\n",
    "\n",
    "        (write you answer here)"
   ]
  },
  {
   "cell_type": "markdown",
   "id": "54171307",
   "metadata": {},
   "source": [
    "### 1.1 Basic Cleaning "
   ]
  },
  {
   "cell_type": "code",
   "execution_count": null,
   "id": "305f97c1",
   "metadata": {},
   "outputs": [],
   "source": [
    "### duplicates \n",
    "data.drop_duplicates(inplace=True)\n",
    "data.duplicated().sum()"
   ]
  },
  {
   "cell_type": "code",
   "execution_count": null,
   "id": "5535096d",
   "metadata": {},
   "outputs": [],
   "source": [
    "##  correct wrongly inputed values in Ratings,Installs,Category,and Type\n",
    "\n",
    "\n"
   ]
  },
  {
   "cell_type": "code",
   "execution_count": null,
   "id": "58c90dc6",
   "metadata": {},
   "outputs": [],
   "source": [
    "print(data.Installs.value_counts(),\"\\n\")\n",
    "print(data.Category.value_counts(),\"\\n\")\n",
    "print(data.Type.value_counts(),\"\\n\")"
   ]
  },
  {
   "cell_type": "code",
   "execution_count": null,
   "id": "b70834f3",
   "metadata": {},
   "outputs": [],
   "source": [
    "## datatypes \n",
    "## correcting Reviews, price and last updated \n",
    "data.loc[:,[\"Reviews\",\"Price\",\"Last Updated\"]]"
   ]
  },
  {
   "cell_type": "code",
   "execution_count": null,
   "id": "4fbf1d70",
   "metadata": {},
   "outputs": [],
   "source": [
    "## correct the types in this cell"
   ]
  },
  {
   "cell_type": "code",
   "execution_count": null,
   "id": "6366e5d4",
   "metadata": {},
   "outputs": [],
   "source": [
    "data.dtypes"
   ]
  },
  {
   "cell_type": "code",
   "execution_count": null,
   "id": "1252b6f6",
   "metadata": {},
   "outputs": [],
   "source": [
    "data.loc[:,[\"Reviews\",\"Price\",\"Last Updated\"]]"
   ]
  },
  {
   "cell_type": "code",
   "execution_count": null,
   "id": "06609438",
   "metadata": {},
   "outputs": [],
   "source": [
    "## missing values\n",
    "data.isna().sum()"
   ]
  },
  {
   "cell_type": "code",
   "execution_count": null,
   "id": "8486d243",
   "metadata": {},
   "outputs": [],
   "source": [
    "## Ratings is our main target varaible so the unlabeled rows must be removed  \n",
    "data.dropna(subset=[\"Rating\"],inplace=True)"
   ]
  },
  {
   "cell_type": "code",
   "execution_count": null,
   "id": "0d0c5ce6",
   "metadata": {},
   "outputs": [],
   "source": [
    "## other columns we can use mode imputation \n",
    "data[\"Current Ver\"]=data[\"Current Ver\"].fillna(data[\"Current Ver\"].mode())\n",
    "data[\"Android Ver\"]=data[\"Android Ver\"].fillna(data[\"Android Ver\"].mode())\n",
    "data[\"Type\"].fillna(data[\"Type\"].mode(),inplace=True)"
   ]
  },
  {
   "cell_type": "code",
   "execution_count": null,
   "id": "7f89e9c2",
   "metadata": {},
   "outputs": [],
   "source": [
    "data.isna().sum()"
   ]
  },
  {
   "cell_type": "code",
   "execution_count": null,
   "id": "cdb3b52e",
   "metadata": {},
   "outputs": [],
   "source": [
    "## Why didn't fillna work?\n",
    "## maybe the cells are empty but not saved as nan?\n"
   ]
  },
  {
   "cell_type": "code",
   "execution_count": null,
   "id": "7a964581",
   "metadata": {},
   "outputs": [],
   "source": [
    "data.isna().sum()"
   ]
  },
  {
   "cell_type": "markdown",
   "id": "1b40ff00",
   "metadata": {},
   "source": [
    "## 1.2 Some Thoughtful cleaning"
   ]
  },
  {
   "cell_type": "code",
   "execution_count": null,
   "id": "61a605ee",
   "metadata": {},
   "outputs": [],
   "source": [
    "## are variables saved in a uniform format ?\n",
    "data.head()"
   ]
  },
  {
   "cell_type": "code",
   "execution_count": null,
   "id": "f7c1a346",
   "metadata": {},
   "outputs": [],
   "source": [
    "data[\"Content Rating\"].value_counts()"
   ]
  },
  {
   "cell_type": "code",
   "execution_count": null,
   "id": "d5a30f96",
   "metadata": {},
   "outputs": [],
   "source": [
    "## how do you think we can improve this ?\n",
    "\n"
   ]
  },
  {
   "cell_type": "code",
   "execution_count": null,
   "id": "5e8c262b",
   "metadata": {},
   "outputs": [],
   "source": [
    "## more meaningful presentation of last updated column\n",
    "data[\"Last Updated Year\"] = \n",
    "data[\"Last Updated Season\"] = \n"
   ]
  },
  {
   "cell_type": "code",
   "execution_count": null,
   "id": "bc14113f",
   "metadata": {},
   "outputs": [],
   "source": [
    "# Converting the column \"Size\" to float\n",
    "# There are sizes counted in mb, kb, in numbers without measurement unit and with \"varies with device\"\n",
    "\n",
    "# Removing \"M\" which is the mb for the size\n"
   ]
  },
  {
   "cell_type": "code",
   "execution_count": null,
   "id": "1dc951dd",
   "metadata": {},
   "outputs": [],
   "source": [
    "sb.displot(data.Size)"
   ]
  },
  {
   "cell_type": "code",
   "execution_count": null,
   "id": "31028749",
   "metadata": {},
   "outputs": [],
   "source": [
    "### -1 is just as NaN-- it indiactes missing value, hence we need to perform imputation \n",
    "### as this variable is MNAR and more than 5% is missing we will use end-of-distribution imputation \n",
    "## check Missing Values.ipynb for reference \n"
   ]
  },
  {
   "cell_type": "code",
   "execution_count": null,
   "id": "1df44be5",
   "metadata": {},
   "outputs": [],
   "source": [
    "sb.displot(data.Size)"
   ]
  },
  {
   "cell_type": "markdown",
   "id": "3305d918",
   "metadata": {},
   "source": [
    "the distribution was distorted , we might consider trying removing this column as a whole when experimenting in ML section "
   ]
  },
  {
   "cell_type": "code",
   "execution_count": null,
   "id": "e4fb4210",
   "metadata": {},
   "outputs": [],
   "source": [
    "# To convert the column \"Installs\" into float\n",
    "# So, firstly remove the \"+\"\n"
   ]
  },
  {
   "cell_type": "code",
   "execution_count": null,
   "id": "206e7f09",
   "metadata": {},
   "outputs": [],
   "source": [
    "## let us try something\n",
    "example=data['Genres'].str.get_dummies(sep=\";\")\n",
    "example"
   ]
  },
  {
   "cell_type": "code",
   "execution_count": null,
   "id": "deba09f8",
   "metadata": {},
   "outputs": [],
   "source": [
    "# which will lead  to more dimensional data: onehot encoding genre as above or will encoding the Category column?\n"
   ]
  },
  {
   "cell_type": "markdown",
   "id": "151b630c",
   "metadata": {},
   "source": [
    "it appears that dealing with category as is would be better in terms of dimensionality "
   ]
  },
  {
   "cell_type": "code",
   "execution_count": null,
   "id": "b355ca3e",
   "metadata": {},
   "outputs": [],
   "source": [
    "#def lower_cardinality(col,cut_off):\n",
    "## create a function the lower cardinality of a variable given a cut-off frequency \n",
    "##where any variable repeated less than this cut off is replace by \"OTHER\""
   ]
  },
  {
   "cell_type": "code",
   "execution_count": null,
   "id": "267af9cb",
   "metadata": {},
   "outputs": [],
   "source": [
    "data[\"Category\"].value_counts()"
   ]
  },
  {
   "cell_type": "code",
   "execution_count": null,
   "id": "39ec7930",
   "metadata": {},
   "outputs": [],
   "source": [
    "lower_cardinality(\"Category\",cut_off=300)\n",
    "data[\"Category\"].value_counts()"
   ]
  },
  {
   "cell_type": "markdown",
   "id": "55c4723d",
   "metadata": {},
   "source": [
    "\"Current Ver\" and \"Andriod Ver\" seems to will have negative effect more than positive however there are a few ideas feel free to try them on your own:\n",
    "1. creating a boolean variable for version being more than 1 \n",
    "2. getting only the first number of the version rather than entire sequence"
   ]
  },
  {
   "cell_type": "markdown",
   "id": "d19bf4a5",
   "metadata": {},
   "source": [
    "## 1.3 Visualisation"
   ]
  },
  {
   "cell_type": "code",
   "execution_count": null,
   "id": "74f8ecb2",
   "metadata": {},
   "outputs": [],
   "source": [
    "# Task Abstraction: Shows the count of each type of the applications (free or paid)\n",
    "# Annotate the count on each bar\n",
    "\n"
   ]
  },
  {
   "cell_type": "code",
   "execution_count": null,
   "id": "fda9344d",
   "metadata": {},
   "outputs": [],
   "source": [
    "## create a visual to represent the most common genres from Genres column "
   ]
  },
  {
   "cell_type": "code",
   "execution_count": null,
   "id": "6b201506",
   "metadata": {},
   "outputs": [],
   "source": [
    "# Task Abstraction:Show the ratings for the most famous Five applications and show their categories.\n",
    "# 1. Sorting in descending order The dataset by the number of installations.\n",
    "# 2.Extract the TopN (5)\n",
    "# 3.Construct this chart as X is the name of Applications and Y is the Rating of the the Top 7 \n",
    "# 4.Using the color as Third variable  for the Caterories.\n",
    "\n"
   ]
  },
  {
   "cell_type": "code",
   "execution_count": null,
   "id": "b134caa9",
   "metadata": {},
   "outputs": [],
   "source": [
    "# Task Abstraction: Show the number of reviewers for the most famous Five applications.\n",
    "# Visual ecoding by human Interaction: Notice... Is is that reasonable to make decisions regarding\n",
    "# one or two -out of five applications- that showing they are the best one for stakeholders to invest in?\n",
    "# 1.Show the Number (percentages) of Reviews by the sectors of the pie which represent the names of Top 5 applications  \n",
    "\n"
   ]
  },
  {
   "cell_type": "code",
   "execution_count": null,
   "id": "2257bb0b",
   "metadata": {},
   "outputs": [],
   "source": [
    "# Treemap\n",
    "\n",
    "# Task Abstraction:Decide which combination of content rating and catergory are the best for the the stakeholders or\n",
    "# Reflect what the trends are in the mobile applications industry.\n",
    "\n",
    "# 0:Grouping the dataset by content Rating and Category and aggregate the ratings as means.\n",
    "# 1. Sorting This group by the Ratings in descending order .\n",
    "# 2.Extract the TopN (20)\n",
    "# 3.Construct this map as  the parent is  the content Rating and the child is the Categories. \n",
    "# 4.Using the color as Third variable  for as a grading system for the values of Ratings .\n",
    "\n",
    "taFrame\n",
    "reset_indx1 = Graph3.reset_index()"
   ]
  },
  {
   "cell_type": "code",
   "execution_count": null,
   "id": "e95efb3b",
   "metadata": {},
   "outputs": [],
   "source": [
    "# Boxplot of 'Rating' variable\n"
   ]
  },
  {
   "cell_type": "code",
   "execution_count": null,
   "id": "3ac6fa02",
   "metadata": {},
   "outputs": [],
   "source": [
    "# Rating vs Count Bar Plot\n",
    "# Sorted descendingly\n",
    "\n"
   ]
  },
  {
   "cell_type": "code",
   "execution_count": null,
   "id": "f0c902cd",
   "metadata": {},
   "outputs": [],
   "source": [
    "# Create a heatmap for correlations\n",
    "plt.show()"
   ]
  },
  {
   "cell_type": "code",
   "execution_count": null,
   "id": "5f03b9ac",
   "metadata": {},
   "outputs": [],
   "source": [
    "data.to_csv(\"data_cleaned.csv\", index= False)"
   ]
  },
  {
   "cell_type": "code",
   "execution_count": null,
   "id": "e0dcfc9c",
   "metadata": {},
   "outputs": [],
   "source": []
  }
 ],
 "metadata": {
  "kernelspec": {
   "display_name": "Python 3 (ipykernel)",
   "language": "python",
   "name": "python3"
  },
  "language_info": {
   "codemirror_mode": {
    "name": "ipython",
    "version": 3
   },
   "file_extension": ".py",
   "mimetype": "text/x-python",
   "name": "python",
   "nbconvert_exporter": "python",
   "pygments_lexer": "ipython3",
   "version": "3.9.12"
  }
 },
 "nbformat": 4,
 "nbformat_minor": 5
}
